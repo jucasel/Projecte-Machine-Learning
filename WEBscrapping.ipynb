{
  "nbformat": 4,
  "nbformat_minor": 0,
  "metadata": {
    "colab": {
      "provenance": [],
      "authorship_tag": "ABX9TyPNTRqeifCQ6YlTFZhLw+KV",
      "include_colab_link": true
    },
    "kernelspec": {
      "name": "python3",
      "display_name": "Python 3"
    },
    "language_info": {
      "name": "python"
    }
  },
  "cells": [
    {
      "cell_type": "markdown",
      "metadata": {
        "id": "view-in-github",
        "colab_type": "text"
      },
      "source": [
        "<a href=\"https://colab.research.google.com/github/jucasel/Projecte-Machine-Learning/blob/main/WEBscrapping.ipynb\" target=\"_parent\"><img src=\"https://colab.research.google.com/assets/colab-badge.svg\" alt=\"Open In Colab\"/></a>"
      ]
    },
    {
      "cell_type": "code",
      "execution_count": null,
      "metadata": {
        "collapsed": true,
        "id": "GfxwWbC7G8FS"
      },
      "outputs": [],
      "source": [
        "import requests\n",
        "\n",
        "URL = \"https://realpython.github.io/fake-jobs/\"\n",
        "page = requests.get(URL)\n",
        "\n",
        "print(page.text)\n"
      ]
    },
    {
      "cell_type": "code",
      "source": [
        "\n",
        "\n",
        "import requests\n",
        "from bs4 import BeautifulSoup\n",
        "\n",
        "URL = \"https://realpython.github.io/fake-jobs/\"\n",
        "page = requests.get(URL)\n",
        "\n",
        "soup = BeautifulSoup(page.content, \"html.parser\")\n",
        "\n",
        "results = soup.find(id=\"ResultsContainer\")\n",
        "\n",
        "#print(results.prettify())\n",
        "\n",
        "job_cards = results.find_all(\"div\", class_=\"card-content\")\n",
        "\n",
        "\n",
        "#for job_card in job_cards:\n",
        "#  print(job_card, end=\"\\n\" * 2)\n",
        "\n",
        "\n",
        "for job_card in job_cards:\n",
        "     title_element = job_card.find(\"h2\", class_=\"title\")\n",
        "     company_element = job_card.find(\"h3\", class_=\"company\")\n",
        "     location_element = job_card.find(\"p\", class_=\"location\")\n",
        "#     print(title_element.text.strip())\n",
        "#     print(company_element.text.strip())\n",
        "#     print(location_element.text.strip())\n",
        "#     print()\n",
        "\n",
        "\n",
        "python_jobs = results.find_all(\"h2\", string=lambda text: \"python\" in text.lower())\n",
        "\n",
        "print(len(python_jobs))\n",
        "print(python_jobs)\n",
        "\n",
        "\n",
        "\n",
        "\n",
        "\n",
        "\n"
      ],
      "metadata": {
        "colab": {
          "base_uri": "https://localhost:8080/"
        },
        "collapsed": true,
        "id": "Gr4r4R2iHhgu",
        "outputId": "c490709c-37a8-4b60-d8cb-8223a902a903"
      },
      "execution_count": 19,
      "outputs": [
        {
          "output_type": "stream",
          "name": "stdout",
          "text": [
            "10\n",
            "[<h2 class=\"title is-5\">Senior Python Developer</h2>, <h2 class=\"title is-5\">Software Engineer (Python)</h2>, <h2 class=\"title is-5\">Python Programmer (Entry-Level)</h2>, <h2 class=\"title is-5\">Python Programmer (Entry-Level)</h2>, <h2 class=\"title is-5\">Software Developer (Python)</h2>, <h2 class=\"title is-5\">Python Developer</h2>, <h2 class=\"title is-5\">Back-End Web Developer (Python, Django)</h2>, <h2 class=\"title is-5\">Back-End Web Developer (Python, Django)</h2>, <h2 class=\"title is-5\">Python Programmer (Entry-Level)</h2>, <h2 class=\"title is-5\">Software Developer (Python)</h2>]\n"
          ]
        }
      ]
    },
    {
      "cell_type": "code",
      "source": [],
      "metadata": {
        "id": "F8-IxZfWITcZ"
      },
      "execution_count": null,
      "outputs": []
    }
  ]
}