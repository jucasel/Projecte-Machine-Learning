{
  "nbformat": 4,
  "nbformat_minor": 0,
  "metadata": {
    "colab": {
      "provenance": [],
      "authorship_tag": "ABX9TyMlXsA+dyO1wC1eyGiBAkZZ",
      "include_colab_link": true
    },
    "kernelspec": {
      "name": "python3",
      "display_name": "Python 3"
    },
    "language_info": {
      "name": "python"
    }
  },
  "cells": [
    {
      "cell_type": "markdown",
      "metadata": {
        "id": "view-in-github",
        "colab_type": "text"
      },
      "source": [
        "<a href=\"https://colab.research.google.com/github/jucasel/Projecte-Machine-Learning/blob/main/WEBscrappingv2.ipynb\" target=\"_parent\"><img src=\"https://colab.research.google.com/assets/colab-badge.svg\" alt=\"Open In Colab\"/></a>"
      ]
    },
    {
      "cell_type": "code",
      "execution_count": null,
      "metadata": {
        "collapsed": true,
        "id": "GfxwWbC7G8FS"
      },
      "outputs": [],
      "source": [
        "import requests\n",
        "\n",
        "URL = \"https://realpython.github.io/fake-jobs/\"\n",
        "page = requests.get(URL)\n",
        "\n",
        "print(page.text)\n"
      ]
    },
    {
      "cell_type": "code",
      "source": [
        "import requests\n",
        "from bs4 import BeautifulSoup\n",
        "import pandas as pd\n",
        "\n",
        "# URL de la página (reemplázala por la URL real si es pública)\n",
        "url = 'https://www.lnphn.com/estadisticas-totales-2/'\n",
        "\n",
        "# Realizar la solicitud GET para obtener el contenido HTML de la página\n",
        "response = requests.get(url)\n",
        "soup = BeautifulSoup(response.content, 'html.parser')\n",
        "\n",
        "# Encontrar la tabla por su clase\n",
        "table = soup.find('table', {'class': 'table table-hover table-standings sp-league-table sp-data-table sp-sortable-table sp-scrollable-table dataTable no-footer'})\n",
        "\n",
        "# Inicializar listas para almacenar los datos\n",
        "players_data = {\n",
        "    \"Jugador\": [],\n",
        "    \"Goles\": [],\n",
        "    \"Asistencias\": [],\n",
        "    \"Disparos Totales\": [],\n",
        "    \"Disparos a Portería\": [],\n",
        "    \"Disparos fuera del Area\": [],\n",
        "    \"Vallas Invictas\": [],\n",
        "    \"Faltas Cometidas\": [],\n",
        "    \"Faltas Recibidas\": [],\n",
        "    \"Minutos Jugados\": [],\n",
        "    \"Tarjetas Amarillas\": [],\n",
        "    \"Tarjetas Rojas\": []\n",
        "}\n",
        "\n",
        "# Recorrer las filas del cuerpo de la tabla y extraer datos\n",
        "for row in table.find('tbody').find_all('tr'):\n",
        "    # Extraer el nombre del jugador\n",
        "    jugador = row.find('td', {'class': 'data-name'}).text.strip()\n",
        "    players_data[\"Jugador\"].append(jugador)\n",
        "\n",
        "    # Extraer cada una de las estadísticas y añadirlas a la lista correspondiente\n",
        "    players_data[\"Goles\"].append(row.find('td', {'class': 'data-g'}).text.strip())\n",
        "    players_data[\"Asistencias\"].append(row.find('td', {'class': 'data-a'}).text.strip())\n",
        "    players_data[\"Disparos Totales\"].append(row.find('td', {'class': 'data-dt'}).text.strip())\n",
        "    players_data[\"Disparos a Portería\"].append(row.find('td', {'class': 'data-dp'}).text.strip())\n",
        "    players_data[\"Disparos fuera del Area\"].append(row.find('td', {'class': 'data-df'}).text.strip())\n",
        "    players_data[\"Vallas Invictas\"].append(row.find('td', {'class': 'data-vi'}).text.strip())\n",
        "    players_data[\"Faltas Cometidas\"].append(row.find('td', {'class': 'data-fc'}).text.strip())\n",
        "    players_data[\"Faltas Recibidas\"].append(row.find('td', {'class': 'data-fr'}).text.strip())\n",
        "    players_data[\"Minutos Jugados\"].append(row.find_all('td', {'class': 'data-ta'})[0].text.strip())\n",
        "    players_data[\"Tarjetas Amarillas\"].append(row.find_all('td', {'class': 'data-ta'})[1].text.strip())\n",
        "    players_data[\"Tarjetas Rojas\"].append(row.find('td', {'class': 'data-tr'}).text.strip())\n",
        "\n",
        "# Convertir los datos a un DataFrame de Pandas para visualizar o exportar\n",
        "df = pd.DataFrame(players_data)\n",
        "print(df)\n",
        "\n",
        "# Guardar los datos en un archivo CSV\n",
        "df.to_csv('datos_jugadores.csv', index=False)"
      ],
      "metadata": {
        "colab": {
          "base_uri": "https://localhost:8080/"
        },
        "id": "F8-IxZfWITcZ",
        "outputId": "c4ee3606-a3ed-4f35-d0f4-0456ad357a18"
      },
      "execution_count": 29,
      "outputs": [
        {
          "output_type": "stream",
          "name": "stdout",
          "text": [
            "                               Jugador Goles Asistencias Disparos Totales  \\\n",
            "0       Celio Antonio Valladares Avila     0           0                0   \n",
            "1        Elmer Alexander Guity Centeno     1           1                5   \n",
            "2    Lesvin Fernando Medina Almendares     1           0                2   \n",
            "3       Carlos Alberto Róchez Crisanto     1           1               22   \n",
            "4          Edgar Enrique Vásquez Mejía     0           0                0   \n",
            "..                                 ...   ...         ...              ...   \n",
            "218  Aldair Francisco Mc Kenzie Harris     1           0                5   \n",
            "219  Rolando Manrique Blackburn Ortega     8           2               25   \n",
            "220        Padilla Zelaya Junior Jesus     2           1                8   \n",
            "221             Daniel Aparicio Jacobs     1           0                2   \n",
            "222          Esteban Giraldo Villareal     0           0                0   \n",
            "\n",
            "    Disparos a Portería Disparos fuera del Area Vallas Invictas  \\\n",
            "0                     0                       0               -   \n",
            "1                     2                       0               -   \n",
            "2                     1                       0               -   \n",
            "3                    12                       0               -   \n",
            "4                     0                       0               -   \n",
            "..                  ...                     ...             ...   \n",
            "218                   2                       0               -   \n",
            "219                  13                       0               -   \n",
            "220                   5                       0               -   \n",
            "221                   1                       0               -   \n",
            "222                   0                       0               -   \n",
            "\n",
            "    Faltas Cometidas Faltas Recibidas Minutos Jugados Tarjetas Amarillas  \\\n",
            "0                  0                0             720                  2   \n",
            "1                  7                8             471                  4   \n",
            "2                 11                1             629                  4   \n",
            "3                 17               18             654                  1   \n",
            "4                  1                1              45                  0   \n",
            "..               ...              ...             ...                ...   \n",
            "218                8                5             299                  0   \n",
            "219                8               29            1056                  0   \n",
            "220               14               25             912                  4   \n",
            "221               19               10            1034                  7   \n",
            "222                0                0              90                  0   \n",
            "\n",
            "    Tarjetas Rojas  \n",
            "0                0  \n",
            "1                1  \n",
            "2                0  \n",
            "3                0  \n",
            "4                0  \n",
            "..             ...  \n",
            "218              0  \n",
            "219              0  \n",
            "220              0  \n",
            "221              0  \n",
            "222              0  \n",
            "\n",
            "[223 rows x 12 columns]\n"
          ]
        }
      ]
    }
  ]
}